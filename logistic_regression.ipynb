{
 "cells": [
  {
   "cell_type": "code",
   "execution_count": 11,
   "metadata": {},
   "outputs": [],
   "source": [
    "from sklearn.linear_model import LogisticRegression\n",
    "import pandas as pd\n",
    "from sklearn.model_selection import train_test_split\n",
    "from sklearn.metrics import roc_auc_score\n",
    "import matplotlib.pyplot as plt\n",
    "from sklearn.metrics import RocCurveDisplay"
   ]
  },
  {
   "cell_type": "code",
   "execution_count": 2,
   "metadata": {},
   "outputs": [
    {
     "data": {
      "text/html": [
       "<div>\n",
       "<style scoped>\n",
       "    .dataframe tbody tr th:only-of-type {\n",
       "        vertical-align: middle;\n",
       "    }\n",
       "\n",
       "    .dataframe tbody tr th {\n",
       "        vertical-align: top;\n",
       "    }\n",
       "\n",
       "    .dataframe thead th {\n",
       "        text-align: right;\n",
       "    }\n",
       "</style>\n",
       "<table border=\"1\" class=\"dataframe\">\n",
       "  <thead>\n",
       "    <tr style=\"text-align: right;\">\n",
       "      <th></th>\n",
       "      <th>alert_key</th>\n",
       "      <th>date</th>\n",
       "      <th>cust_id_x</th>\n",
       "      <th>risk_rank</th>\n",
       "      <th>occupation_code</th>\n",
       "      <th>total_asset</th>\n",
       "      <th>AGE</th>\n",
       "      <th>cust_id_y</th>\n",
       "      <th>sar_flag</th>\n",
       "    </tr>\n",
       "  </thead>\n",
       "  <tbody>\n",
       "    <tr>\n",
       "      <th>0</th>\n",
       "      <td>171189</td>\n",
       "      <td>0</td>\n",
       "      <td>972ee157e63316e8a50dd489bc93730a3ee8a8959d5c6b...</td>\n",
       "      <td>1</td>\n",
       "      <td>17.0</td>\n",
       "      <td>375576.0</td>\n",
       "      <td>4</td>\n",
       "      <td>284.0</td>\n",
       "      <td>0</td>\n",
       "    </tr>\n",
       "    <tr>\n",
       "      <th>1</th>\n",
       "      <td>171202</td>\n",
       "      <td>0</td>\n",
       "      <td>a10ab33f90926fb18d7bb5e78034d7f04a1fbed95b7951...</td>\n",
       "      <td>3</td>\n",
       "      <td>12.0</td>\n",
       "      <td>2717416.0</td>\n",
       "      <td>2</td>\n",
       "      <td>217.0</td>\n",
       "      <td>0</td>\n",
       "    </tr>\n",
       "    <tr>\n",
       "      <th>2</th>\n",
       "      <td>171599</td>\n",
       "      <td>0</td>\n",
       "      <td>3433ecc068ed1c9e2f5037cab5d42d7b901e9bd624c1fb...</td>\n",
       "      <td>1</td>\n",
       "      <td>12.0</td>\n",
       "      <td>326517.0</td>\n",
       "      <td>4</td>\n",
       "      <td>205.0</td>\n",
       "      <td>0</td>\n",
       "    </tr>\n",
       "    <tr>\n",
       "      <th>3</th>\n",
       "      <td>171737</td>\n",
       "      <td>0</td>\n",
       "      <td>a0861608615a9365d90f4ba0a813c0ea0471987f925c8b...</td>\n",
       "      <td>3</td>\n",
       "      <td>14.0</td>\n",
       "      <td>1014759.0</td>\n",
       "      <td>4</td>\n",
       "      <td>504.0</td>\n",
       "      <td>0</td>\n",
       "    </tr>\n",
       "    <tr>\n",
       "      <th>4</th>\n",
       "      <td>171142</td>\n",
       "      <td>0</td>\n",
       "      <td>a39fea9aec90969fe66a2b2b4d1b86368a2d38e8b8d4bf...</td>\n",
       "      <td>3</td>\n",
       "      <td>12.0</td>\n",
       "      <td>241719.0</td>\n",
       "      <td>3</td>\n",
       "      <td>25183.0</td>\n",
       "      <td>0</td>\n",
       "    </tr>\n",
       "    <tr>\n",
       "      <th>...</th>\n",
       "      <td>...</td>\n",
       "      <td>...</td>\n",
       "      <td>...</td>\n",
       "      <td>...</td>\n",
       "      <td>...</td>\n",
       "      <td>...</td>\n",
       "      <td>...</td>\n",
       "      <td>...</td>\n",
       "      <td>...</td>\n",
       "    </tr>\n",
       "    <tr>\n",
       "      <th>23901</th>\n",
       "      <td>352132</td>\n",
       "      <td>364</td>\n",
       "      <td>c49b33d1fde790ec03584672903f296e486615adfdc989...</td>\n",
       "      <td>1</td>\n",
       "      <td>19.0</td>\n",
       "      <td>3218731.0</td>\n",
       "      <td>3</td>\n",
       "      <td>157.0</td>\n",
       "      <td>0</td>\n",
       "    </tr>\n",
       "    <tr>\n",
       "      <th>23902</th>\n",
       "      <td>352125</td>\n",
       "      <td>364</td>\n",
       "      <td>0c2dc5fedc3689abf5ff4be14fe8fea8d23d22068297c2...</td>\n",
       "      <td>3</td>\n",
       "      <td>19.0</td>\n",
       "      <td>928963.0</td>\n",
       "      <td>3</td>\n",
       "      <td>20.0</td>\n",
       "      <td>0</td>\n",
       "    </tr>\n",
       "    <tr>\n",
       "      <th>23903</th>\n",
       "      <td>352080</td>\n",
       "      <td>364</td>\n",
       "      <td>1a93961c8fa830a1f32f5316b44f4964d65397f0311b11...</td>\n",
       "      <td>2</td>\n",
       "      <td>9.0</td>\n",
       "      <td>69080.0</td>\n",
       "      <td>6</td>\n",
       "      <td>71.0</td>\n",
       "      <td>0</td>\n",
       "    </tr>\n",
       "    <tr>\n",
       "      <th>23904</th>\n",
       "      <td>352075</td>\n",
       "      <td>364</td>\n",
       "      <td>9586b80d3ad1d74c0a1efe792cae2ecd073243fb01ed33...</td>\n",
       "      <td>3</td>\n",
       "      <td>3.0</td>\n",
       "      <td>262604.0</td>\n",
       "      <td>6</td>\n",
       "      <td>474.0</td>\n",
       "      <td>0</td>\n",
       "    </tr>\n",
       "    <tr>\n",
       "      <th>23905</th>\n",
       "      <td>351927</td>\n",
       "      <td>364</td>\n",
       "      <td>7dc5256ef411c745dc3064da2f231c104ca270f564d3d0...</td>\n",
       "      <td>1</td>\n",
       "      <td>9.0</td>\n",
       "      <td>332834.0</td>\n",
       "      <td>2</td>\n",
       "      <td>293.0</td>\n",
       "      <td>0</td>\n",
       "    </tr>\n",
       "  </tbody>\n",
       "</table>\n",
       "<p>23906 rows × 9 columns</p>\n",
       "</div>"
      ],
      "text/plain": [
       "       alert_key  date                                          cust_id_x  \\\n",
       "0         171189     0  972ee157e63316e8a50dd489bc93730a3ee8a8959d5c6b...   \n",
       "1         171202     0  a10ab33f90926fb18d7bb5e78034d7f04a1fbed95b7951...   \n",
       "2         171599     0  3433ecc068ed1c9e2f5037cab5d42d7b901e9bd624c1fb...   \n",
       "3         171737     0  a0861608615a9365d90f4ba0a813c0ea0471987f925c8b...   \n",
       "4         171142     0  a39fea9aec90969fe66a2b2b4d1b86368a2d38e8b8d4bf...   \n",
       "...          ...   ...                                                ...   \n",
       "23901     352132   364  c49b33d1fde790ec03584672903f296e486615adfdc989...   \n",
       "23902     352125   364  0c2dc5fedc3689abf5ff4be14fe8fea8d23d22068297c2...   \n",
       "23903     352080   364  1a93961c8fa830a1f32f5316b44f4964d65397f0311b11...   \n",
       "23904     352075   364  9586b80d3ad1d74c0a1efe792cae2ecd073243fb01ed33...   \n",
       "23905     351927   364  7dc5256ef411c745dc3064da2f231c104ca270f564d3d0...   \n",
       "\n",
       "       risk_rank  occupation_code  total_asset  AGE  cust_id_y  sar_flag  \n",
       "0              1             17.0     375576.0    4      284.0         0  \n",
       "1              3             12.0    2717416.0    2      217.0         0  \n",
       "2              1             12.0     326517.0    4      205.0         0  \n",
       "3              3             14.0    1014759.0    4      504.0         0  \n",
       "4              3             12.0     241719.0    3    25183.0         0  \n",
       "...          ...              ...          ...  ...        ...       ...  \n",
       "23901          1             19.0    3218731.0    3      157.0         0  \n",
       "23902          3             19.0     928963.0    3       20.0         0  \n",
       "23903          2              9.0      69080.0    6       71.0         0  \n",
       "23904          3              3.0     262604.0    6      474.0         0  \n",
       "23905          1              9.0     332834.0    2      293.0         0  \n",
       "\n",
       "[23906 rows x 9 columns]"
      ]
     },
     "execution_count": 2,
     "metadata": {},
     "output_type": "execute_result"
    }
   ],
   "source": [
    "df_alert_date = pd.read_csv(\"./訓練資料集_first/train_x_alert_date.csv\")\n",
    "df_custinfo = pd.read_csv(\"./訓練資料集_first/public_train_x_custinfo_full_hashed.csv\")\n",
    "df_dp = pd.read_csv(\"./訓練資料集_first/public_train_x_dp_full_hashed.csv\")\n",
    "df_answer = pd.read_csv(\"./訓練資料集_first/train_y_answer.csv\")\n",
    "data = df_alert_date.merge(df_custinfo, how= 'left', on = 'alert_key')\n",
    "data = data.merge(df_dp['cust_id'].value_counts(), how = 'left', left_on='cust_id', right_index=True)\n",
    "data = data.merge(df_answer, how= 'left', on = 'alert_key')\n",
    "data"
   ]
  },
  {
   "cell_type": "code",
   "execution_count": 7,
   "metadata": {},
   "outputs": [],
   "source": [
    "training_data = data[['risk_rank', 'occupation_code', 'total_asset', 'AGE', 'cust_id_y']].fillna(0)\n",
    "label_data = data['sar_flag'].fillna(-1)\n",
    "X_train, X_test, y_train, y_test = train_test_split(training_data, label_data, test_size=0.3, random_state=1)"
   ]
  },
  {
   "cell_type": "code",
   "execution_count": 13,
   "metadata": {},
   "outputs": [
    {
     "name": "stdout",
     "output_type": "stream",
     "text": [
      "0.49400950510828423\n"
     ]
    },
    {
     "data": {
      "image/png": "[encoded data removed]",
      "text/plain": [
       "<Figure size 432x288 with 1 Axes>"
      ]
     },
     "metadata": {
      "needs_background": "light"
     },
     "output_type": "display_data"
    }
   ],
   "source": [
    "clf = LogisticRegression(solver=\"liblinear\", random_state=0).fit(X_train, y_train)\n",
    "print(roc_auc_score(y_train, clf.predict_proba(X_train)[:, 1]))\n",
    "RocCurveDisplay.from_predictions(y_train, clf.predict_proba(X_train)[:, 1])\n",
    "plt.show()"
   ]
  },
  {
   "cell_type": "code",
   "execution_count": 14,
   "metadata": {},
   "outputs": [
    {
     "name": "stdout",
     "output_type": "stream",
     "text": [
      "0.49831947771358787\n"
     ]
    },
    {
     "data": {
      "image/png": "[encoded data removed]",
      "text/plain": [
       "<Figure size 432x288 with 1 Axes>"
      ]
     },
     "metadata": {
      "needs_background": "light"
     },
     "output_type": "display_data"
    }
   ],
   "source": [
    "print(roc_auc_score(y_test, clf.predict_proba(X_test)[:, 1]))\n",
    "RocCurveDisplay.from_predictions(y_test, clf.predict_proba(X_test)[:, 1])\n",
    "plt.show()"
   ]
  }
 ],
 "metadata": {
  "kernelspec": {
   "display_name": "Python 3.7.5 ('Tim_milano')",
   "language": "python",
   "name": "python3"
  },
  "language_info": {
   "codemirror_mode": {
    "name": "ipython",
    "version": 3
   },
   "file_extension": ".py",
   "mimetype": "text/x-python",
   "name": "python",
   "nbconvert_exporter": "python",
   "pygments_lexer": "ipython3",
   "version": "3.7.5"
  },
  "orig_nbformat": 4,
  "vscode": {
   "interpreter": {
    "hash": "0019aa58966500feb86504a5278a39da579708f36883ac3873b3a55d7152eadb"
   }
  }
 },
 "nbformat": 4,
 "nbformat_minor": 2
}
