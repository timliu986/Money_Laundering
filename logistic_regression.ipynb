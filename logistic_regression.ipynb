{
 "cells": [
  {
   "cell_type": "code",
   "execution_count": 1,
   "metadata": {},
   "outputs": [],
   "source": [
    "from sklearn.linear_model import LogisticRegression\n",
    "import pandas as pd\n",
    "from sklearn.model_selection import train_test_split\n",
    "from sklearn.metrics import roc_auc_score\n",
    "import matplotlib.pyplot as plt\n",
    "from sklearn.metrics import RocCurveDisplay\n",
    "import pandas as pd"
   ]
  },
  {
   "cell_type": "code",
   "execution_count": 2,
   "metadata": {},
   "outputs": [],
   "source": [
    "df_ccba = pd.read_csv(\"./訓練資料集_first/public_train_x_ccba_full_hashed.csv\")\n",
    "df_cdtx = pd.read_csv(\"./訓練資料集_first/public_train_x_cdtx0001_full_hashed.csv\")\n",
    "df_custinfo = pd.read_csv(\"./訓練資料集_first/public_train_x_custinfo_full_hashed.csv\")\n",
    "df_dp = pd.read_csv(\"./訓練資料集_first/public_train_x_dp_full_hashed.csv\")\n",
    "df_remit1 = pd.read_csv(\"./訓練資料集_first/public_train_x_remit1_full_hashed.csv\")\n",
    "df_alert_date = pd.read_csv(\"./訓練資料集_first/train_x_alert_date.csv\")\n",
    "df_public_alert_date = pd.read_csv(\"./訓練資料集_first/public_x_alert_date.csv\")\n"
   ]
  },
  {
   "cell_type": "code",
   "execution_count": 3,
   "metadata": {},
   "outputs": [],
   "source": [
    "train_data = df_alert_date.merge(df_custinfo, how= 'left', on = 'alert_key')\n",
    "data = train_data.copy()\n",
    "alert_times_dict = {}\n",
    "alert_times_list = []\n",
    "for i, row in train_data.iterrows():\n",
    "    if alert_times_dict.__contains__(row.cust_id):\n",
    "        alert_times_list.append(alert_times_dict[row.cust_id])\n",
    "        alert_times_dict[row.cust_id] += 1\n",
    "    else :\n",
    "        alert_times_list.append(0)\n",
    "        alert_times_dict[row.cust_id] = 1\n",
    "train_data['alert_times'] = alert_times_list"
   ]
  },
  {
   "cell_type": "code",
   "execution_count": 4,
   "metadata": {},
   "outputs": [],
   "source": [
    "return_key = list(data.columns)\n",
    "data = data.merge(df_ccba, how = 'outer', left_on=['cust_id', 'date'], right_on=['cust_id', 'byymm'])\n",
    "data['date'] = data[['date', 'byymm']].apply(lambda x : x[0] if pd.notna(x[0]) else x[1], axis = 1)\n",
    "data.drop('byymm', axis = 1,inplace=True)\n",
    "data = data.sort_values(['cust_id','alert_key']).reset_index(drop= True) # make cust info in the first of cust id to fill cust info\n",
    "data.loc[:, data.columns!='alert_times'] = data.loc[:, data.columns!='alert_times'].fillna(method='ffill')\n",
    "data.loc[:, data.columns!='alert_times'] = data.loc[:, data.columns!='alert_times'].fillna(method='bfill')\n",
    "data = data.sort_values(['cust_id', 'date'])\n",
    "data.fillna(method='ffill', inplace=True)\n",
    "data.fillna(0, inplace=True)\n",
    "train_data = train_data.merge(data, on = return_key, how = 'left')\n",
    "data = train_data.copy()"
   ]
  },
  {
   "cell_type": "code",
   "execution_count": 5,
   "metadata": {},
   "outputs": [],
   "source": [
    "df_cdtx['Isin_taiwan'] = df_cdtx['country'].map(lambda x : x == 130)\n",
    "df_cdtx_intai = df_cdtx[df_cdtx['Isin_taiwan']]\n",
    "df_cdtx_intai = df_cdtx_intai.rename({'amt' : 'amt_inside'}, axis = 1)\n",
    "data = data.merge(df_cdtx_intai[['cust_id', 'date', 'amt_inside','country']], how = 'outer', on = ['cust_id', 'date'])\n",
    "df_cdtx_notintai = df_cdtx[-df_cdtx['Isin_taiwan']]\n",
    "df_cdtx_notintai = df_cdtx_notintai.rename({'amt' : 'amt_outside'}, axis = 1)\n",
    "data = data.merge(df_cdtx_notintai[['cust_id', 'date', 'amt_outside','country']], how = 'outer', on = ['cust_id', 'date', 'country'])\n",
    "data['country'] = data['country'].fillna(130)\n",
    "data[[\"amt_inside\", 'amt_outside']] = data[[\"amt_inside\", 'amt_outside']].fillna(0)\n",
    "data = data.groupby(['cust_id'], sort=False).apply(lambda x: x.ffill().bfill())\n",
    "data = data.sort_values(['cust_id', 'date'])\n",
    "data['country'] = data['country'].map(lambda x : str(int(x)))"
   ]
  },
  {
   "cell_type": "code",
   "execution_count": 7,
   "metadata": {},
   "outputs": [],
   "source": [
    "df_answer = pd.read_csv(\"./訓練資料集_first/train_y_answer.csv\")\n",
    "train_data = train_data.merge(df_answer, how= 'left', on = 'alert_key')"
   ]
  },
  {
   "cell_type": "code",
   "execution_count": 37,
   "metadata": {},
   "outputs": [],
   "source": [
    "train_data['occupation_code'] = train_data['occupation_code'].fillna(-1)\n",
    "train_data[['lupay', 'cycam','usgam','clamt','csamt','inamt','cucsm','cucah']] = train_data[['lupay', 'cycam','usgam','clamt','csamt','inamt','cucsm','cucah']].fillna(0)"
   ]
  },
  {
   "cell_type": "code",
   "execution_count": 38,
   "metadata": {},
   "outputs": [],
   "source": [
    "train_data = train_data.astype({\n",
    "    'alert_key' : \"category\",\n",
    "    'date' : \"category\",\n",
    "    'cust_id' : \"category\", \n",
    "    'risk_rank': \"category\", \n",
    "    'occupation_code': \"category\",\n",
    "    'total_asset' : \"int32\", \n",
    "    'AGE' : 'int32',\n",
    "    'sar_flag': \"category\", \n",
    "    'alert_times': \"category\", \n",
    "    'lupay' : \"int32\", \n",
    "    'cycam' : \"int32\",\n",
    "    'usgam' : \"int32\", \n",
    "    'clamt' : \"int32\", \n",
    "    'csamt' : \"int32\", \n",
    "    'inamt' : \"int32\", \n",
    "    'cucsm' : \"int32\", \n",
    "    'cucah' : \"int32\",\n",
    "    # 'amt_outside' : \"int32\",\n",
    "    # \"amt_inside\" : \"int32\",\n",
    "    # \"country\" : 'category'\n",
    "})"
   ]
  },
  {
   "cell_type": "code",
   "execution_count": 39,
   "metadata": {},
   "outputs": [],
   "source": [
    "training_feature = [ 'risk_rank', 'occupation_code', 'total_asset', 'AGE', 'alert_times', 'lupay', 'cycam', 'usgam', 'clamt', 'csamt', 'inamt', 'cucsm', 'cucah']\n",
    "X_train, X_test, y_train, y_test = train_test_split(train_data[training_feature], train_data['sar_flag'], test_size=0.3, random_state=1)"
   ]
  },
  {
   "cell_type": "code",
   "execution_count": 40,
   "metadata": {},
   "outputs": [
    {
     "name": "stdout",
     "output_type": "stream",
     "text": [
      "0.7056038399878578\n"
     ]
    },
    {
     "data": {
      "image/png": "[encoded data removed]",
      "text/plain": [
       "<Figure size 432x288 with 1 Axes>"
      ]
     },
     "metadata": {
      "needs_background": "light"
     },
     "output_type": "display_data"
    }
   ],
   "source": [
    "clf = LogisticRegression(solver=\"liblinear\", random_state=0).fit(X_train, y_train)\n",
    "print(roc_auc_score(y_train, clf.predict_proba(X_train)[:, 1]))\n",
    "RocCurveDisplay.from_predictions(y_train, clf.predict_proba(X_train)[:, 1])\n",
    "plt.show()"
   ]
  },
  {
   "cell_type": "code",
   "execution_count": 41,
   "metadata": {},
   "outputs": [
    {
     "name": "stdout",
     "output_type": "stream",
     "text": [
      "0.6640026302193415\n"
     ]
    },
    {
     "data": {
      "image/png": "[encoded data removed]",
      "text/plain": [
       "<Figure size 432x288 with 1 Axes>"
      ]
     },
     "metadata": {
      "needs_background": "light"
     },
     "output_type": "display_data"
    }
   ],
   "source": [
    "print(roc_auc_score(y_test, clf.predict_proba(X_test)[:, 1]))\n",
    "RocCurveDisplay.from_predictions(y_test, clf.predict_proba(X_test)[:, 1])\n",
    "plt.show()"
   ]
  },
  {
   "cell_type": "markdown",
   "metadata": {},
   "source": [
    "# Output"
   ]
  },
  {
   "cell_type": "code",
   "execution_count": 42,
   "metadata": {},
   "outputs": [],
   "source": [
    "df_alert_date = pd.read_csv(\"./訓練資料集_first/public_x_alert_date.csv\")\n",
    "train_data = df_alert_date.merge(df_custinfo, how= 'left', on = 'alert_key')\n",
    "data = train_data.copy()\n",
    "alert_times_dict = {}\n",
    "alert_times_list = []\n",
    "for i, row in train_data.iterrows():\n",
    "    if alert_times_dict.__contains__(row.cust_id):\n",
    "        alert_times_list.append(alert_times_dict[row.cust_id])\n",
    "        alert_times_dict[row.cust_id] += 1\n",
    "    else :\n",
    "        alert_times_list.append(0)\n",
    "        alert_times_dict[row.cust_id] = 1\n",
    "train_data['alert_times'] = alert_times_list"
   ]
  },
  {
   "cell_type": "code",
   "execution_count": 43,
   "metadata": {},
   "outputs": [],
   "source": [
    "return_key = list(data.columns)\n",
    "data = data.merge(df_ccba, how = 'outer', left_on=['cust_id', 'date'], right_on=['cust_id', 'byymm'])\n",
    "data['date'] = data[['date', 'byymm']].apply(lambda x : x[0] if pd.notna(x[0]) else x[1], axis = 1)\n",
    "data.drop('byymm', axis = 1,inplace=True)\n",
    "data = data.sort_values(['cust_id','alert_key']).reset_index(drop= True) # make cust info in the first of cust id to fill cust info\n",
    "data.loc[:, data.columns!='alert_times'] = data.loc[:, data.columns!='alert_times'].fillna(method='ffill')\n",
    "data.loc[:, data.columns!='alert_times'] = data.loc[:, data.columns!='alert_times'].fillna(method='bfill')\n",
    "data = data.sort_values(['cust_id', 'date'])\n",
    "data.fillna(method='ffill', inplace=True)\n",
    "data.fillna(0, inplace=True)\n",
    "train_data = train_data.merge(data, on = return_key, how = 'left')\n",
    "data = train_data.copy()"
   ]
  },
  {
   "cell_type": "code",
   "execution_count": 48,
   "metadata": {},
   "outputs": [
    {
     "data": {
      "text/html": [
       "<div>\n",
       "<style scoped>\n",
       "    .dataframe tbody tr th:only-of-type {\n",
       "        vertical-align: middle;\n",
       "    }\n",
       "\n",
       "    .dataframe tbody tr th {\n",
       "        vertical-align: top;\n",
       "    }\n",
       "\n",
       "    .dataframe thead th {\n",
       "        text-align: right;\n",
       "    }\n",
       "</style>\n",
       "<table border=\"1\" class=\"dataframe\">\n",
       "  <thead>\n",
       "    <tr style=\"text-align: right;\">\n",
       "      <th></th>\n",
       "      <th>alert_key</th>\n",
       "      <th>probability</th>\n",
       "    </tr>\n",
       "  </thead>\n",
       "  <tbody>\n",
       "    <tr>\n",
       "      <th>0</th>\n",
       "      <td>357307</td>\n",
       "      <td>0.127817</td>\n",
       "    </tr>\n",
       "    <tr>\n",
       "      <th>1</th>\n",
       "      <td>376329</td>\n",
       "      <td>0.000000</td>\n",
       "    </tr>\n",
       "    <tr>\n",
       "      <th>2</th>\n",
       "      <td>373644</td>\n",
       "      <td>0.000000</td>\n",
       "    </tr>\n",
       "    <tr>\n",
       "      <th>3</th>\n",
       "      <td>357668</td>\n",
       "      <td>0.004434</td>\n",
       "    </tr>\n",
       "    <tr>\n",
       "      <th>4</th>\n",
       "      <td>354443</td>\n",
       "      <td>0.118183</td>\n",
       "    </tr>\n",
       "    <tr>\n",
       "      <th>...</th>\n",
       "      <td>...</td>\n",
       "      <td>...</td>\n",
       "    </tr>\n",
       "    <tr>\n",
       "      <th>3845</th>\n",
       "      <td>364485</td>\n",
       "      <td>0.010657</td>\n",
       "    </tr>\n",
       "    <tr>\n",
       "      <th>3846</th>\n",
       "      <td>363155</td>\n",
       "      <td>0.000614</td>\n",
       "    </tr>\n",
       "    <tr>\n",
       "      <th>3847</th>\n",
       "      <td>368710</td>\n",
       "      <td>0.000000</td>\n",
       "    </tr>\n",
       "    <tr>\n",
       "      <th>3848</th>\n",
       "      <td>358067</td>\n",
       "      <td>0.016068</td>\n",
       "    </tr>\n",
       "    <tr>\n",
       "      <th>3849</th>\n",
       "      <td>372119</td>\n",
       "      <td>0.000000</td>\n",
       "    </tr>\n",
       "  </tbody>\n",
       "</table>\n",
       "<p>3850 rows × 2 columns</p>\n",
       "</div>"
      ],
      "text/plain": [
       "      alert_key  probability\n",
       "0        357307     0.127817\n",
       "1        376329     0.000000\n",
       "2        373644     0.000000\n",
       "3        357668     0.004434\n",
       "4        354443     0.118183\n",
       "...         ...          ...\n",
       "3845     364485     0.010657\n",
       "3846     363155     0.000614\n",
       "3847     368710     0.000000\n",
       "3848     358067     0.016068\n",
       "3849     372119     0.000000\n",
       "\n",
       "[3850 rows x 2 columns]"
      ]
     },
     "execution_count": 48,
     "metadata": {},
     "output_type": "execute_result"
    }
   ],
   "source": [
    "df_sample = pd.read_csv('./訓練資料集_first/預測的案件名單及提交檔案範例.csv')\n",
    "train_data['probability'] = clf.predict_proba(train_data[training_feature])[:,-1]\n",
    "data_output = df_alert_date.merge(train_data, how = 'left', on = ['alert_key', 'date'])\n",
    "data_output = data_output[['alert_key', 'probability']].drop_duplicates(subset='alert_key').reset_index(drop= True)\n",
    "data_output = df_sample.merge(data_output, how='left', on = 'alert_key').fillna(0)[['alert_key', 'probability_y']]\n",
    "data_output = data_output.rename({'probability_y' : 'probability'},axis = 1)\n",
    "data_output"
   ]
  },
  {
   "cell_type": "code",
   "execution_count": 46,
   "metadata": {},
   "outputs": [
    {
     "data": {
      "text/html": [
       "<div>\n",
       "<style scoped>\n",
       "    .dataframe tbody tr th:only-of-type {\n",
       "        vertical-align: middle;\n",
       "    }\n",
       "\n",
       "    .dataframe tbody tr th {\n",
       "        vertical-align: top;\n",
       "    }\n",
       "\n",
       "    .dataframe thead th {\n",
       "        text-align: right;\n",
       "    }\n",
       "</style>\n",
       "<table border=\"1\" class=\"dataframe\">\n",
       "  <thead>\n",
       "    <tr style=\"text-align: right;\">\n",
       "      <th></th>\n",
       "      <th>alert_key</th>\n",
       "      <th>probability</th>\n",
       "    </tr>\n",
       "  </thead>\n",
       "  <tbody>\n",
       "    <tr>\n",
       "      <th>0</th>\n",
       "      <td>357307</td>\n",
       "      <td>0.000017</td>\n",
       "    </tr>\n",
       "    <tr>\n",
       "      <th>1</th>\n",
       "      <td>376329</td>\n",
       "      <td>0.000324</td>\n",
       "    </tr>\n",
       "    <tr>\n",
       "      <th>2</th>\n",
       "      <td>373644</td>\n",
       "      <td>0.000372</td>\n",
       "    </tr>\n",
       "    <tr>\n",
       "      <th>3</th>\n",
       "      <td>357668</td>\n",
       "      <td>0.000489</td>\n",
       "    </tr>\n",
       "    <tr>\n",
       "      <th>4</th>\n",
       "      <td>354443</td>\n",
       "      <td>0.000526</td>\n",
       "    </tr>\n",
       "    <tr>\n",
       "      <th>...</th>\n",
       "      <td>...</td>\n",
       "      <td>...</td>\n",
       "    </tr>\n",
       "    <tr>\n",
       "      <th>3845</th>\n",
       "      <td>364485</td>\n",
       "      <td>0.997702</td>\n",
       "    </tr>\n",
       "    <tr>\n",
       "      <th>3846</th>\n",
       "      <td>363155</td>\n",
       "      <td>0.998987</td>\n",
       "    </tr>\n",
       "    <tr>\n",
       "      <th>3847</th>\n",
       "      <td>368710</td>\n",
       "      <td>0.999694</td>\n",
       "    </tr>\n",
       "    <tr>\n",
       "      <th>3848</th>\n",
       "      <td>358067</td>\n",
       "      <td>0.999821</td>\n",
       "    </tr>\n",
       "    <tr>\n",
       "      <th>3849</th>\n",
       "      <td>372119</td>\n",
       "      <td>0.999978</td>\n",
       "    </tr>\n",
       "  </tbody>\n",
       "</table>\n",
       "<p>3850 rows × 2 columns</p>\n",
       "</div>"
      ],
      "text/plain": [
       "      alert_key  probability\n",
       "0        357307     0.000017\n",
       "1        376329     0.000324\n",
       "2        373644     0.000372\n",
       "3        357668     0.000489\n",
       "4        354443     0.000526\n",
       "...         ...          ...\n",
       "3845     364485     0.997702\n",
       "3846     363155     0.998987\n",
       "3847     368710     0.999694\n",
       "3848     358067     0.999821\n",
       "3849     372119     0.999978\n",
       "\n",
       "[3850 rows x 2 columns]"
      ]
     },
     "execution_count": 46,
     "metadata": {},
     "output_type": "execute_result"
    }
   ],
   "source": [
    "df_sample"
   ]
  },
  {
   "cell_type": "code",
   "execution_count": 50,
   "metadata": {},
   "outputs": [],
   "source": [
    "data_output[['alert_key', 'probability']].to_csv('./output/output1206.csv',index = False)"
   ]
  }
 ],
 "metadata": {
  "kernelspec": {
   "display_name": "Python 3.7.5 ('Tim_milano')",
   "language": "python",
   "name": "python3"
  },
  "language_info": {
   "codemirror_mode": {
    "name": "ipython",
    "version": 3
   },
   "file_extension": ".py",
   "mimetype": "text/x-python",
   "name": "python",
   "nbconvert_exporter": "python",
   "pygments_lexer": "ipython3",
   "version": "3.7.5"
  },
  "orig_nbformat": 4,
  "vscode": {
   "interpreter": {
    "hash": "0019aa58966500feb86504a5278a39da579708f36883ac3873b3a55d7152eadb"
   }
  }
 },
 "nbformat": 4,
 "nbformat_minor": 2
}
